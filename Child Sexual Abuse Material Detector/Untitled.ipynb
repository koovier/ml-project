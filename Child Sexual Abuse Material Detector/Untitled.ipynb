{
 "cells": [
  {
   "cell_type": "code",
   "execution_count": 58,
   "id": "aad26134",
   "metadata": {},
   "outputs": [],
   "source": [
    "import numpy as np\n",
    "\n",
    "def loadDataSet():\n",
    "    postingList = [['my', 'dog', 'has', 'flea', 'problems', 'help', 'please'],\n",
    "                   ['maybe', 'not', 'take', 'him', 'to', 'dog', 'park', 'stupid'],\n",
    "                   ['my', 'dalmation', 'is', 'so', 'cute', 'I', 'love', 'him'],\n",
    "                   ['stop', 'posting', 'stupid', 'worthless', 'garbage'],\n",
    "                   ['mr', 'licks', 'ate', 'my', 'steak', 'how', 'to', 'stop', 'him'],\n",
    "                   ['quit', 'buying', 'worthless', 'dog', 'food', 'stupid']]\n",
    "    classVec = [0, 1, 0, 1, 0, 1]    #1 is abusive, 0 not\n",
    "    return postingList, classVec"
   ]
  },
  {
   "cell_type": "code",
   "execution_count": 2,
   "id": "e4456496",
   "metadata": {},
   "outputs": [],
   "source": [
    "def createVocabList(dataSet):\n",
    "    vocabSet = set([])  #create empty set\n",
    "    for document in dataSet:\n",
    "        vocabSet = vocabSet | set(document) #union of the two sets\n",
    "    return list(vocabSet)"
   ]
  },
  {
   "cell_type": "code",
   "execution_count": 8,
   "id": "4783dad7",
   "metadata": {},
   "outputs": [],
   "source": [
    "a = loadDataSet()"
   ]
  },
  {
   "cell_type": "code",
   "execution_count": 12,
   "id": "4e2e8cec",
   "metadata": {},
   "outputs": [
    {
     "data": {
      "text/plain": [
       "[['my', 'dog', 'has', 'flea', 'problems', 'help', 'please'],\n",
       " ['maybe', 'not', 'take', 'him', 'to', 'dog', 'park', 'stupid'],\n",
       " ['my', 'dalmation', 'is', 'so', 'cute', 'I', 'love', 'him'],\n",
       " ['stop', 'posting', 'stupid', 'worthless', 'garbage'],\n",
       " ['mr', 'licks', 'ate', 'my', 'steak', 'how', 'to', 'stop', 'him'],\n",
       " ['quit', 'buying', 'worthless', 'dog', 'food', 'stupid']]"
      ]
     },
     "execution_count": 12,
     "metadata": {},
     "output_type": "execute_result"
    }
   ],
   "source": [
    "a[0]"
   ]
  },
  {
   "cell_type": "code",
   "execution_count": 17,
   "id": "dfd4d67d",
   "metadata": {
    "scrolled": true
   },
   "outputs": [],
   "source": [
    "vaocabList = createVocabList(a[0])"
   ]
  },
  {
   "cell_type": "code",
   "execution_count": 24,
   "id": "404e4853",
   "metadata": {},
   "outputs": [],
   "source": [
    "def setOfWords2Vec(vocabList, inputSet):\n",
    "    returnVec = [0]*len(vocabList)\n",
    "    for word in inputSet:\n",
    "        if word in vocabList:\n",
    "            returnVec[vocabList.index(word)] = 1\n",
    "        else: print(\"the word: %s is not in my Vocabulary!\" % word)\n",
    "    return returnVec"
   ]
  },
  {
   "cell_type": "code",
   "execution_count": null,
   "id": "c2fab665",
   "metadata": {},
   "outputs": [],
   "source": [
    "P(w0 | c0) =>  给定是好文章，出现w0(dog)的概率。 =>  1/3"
   ]
  },
  {
   "cell_type": "code",
   "execution_count": 29,
   "id": "bad57043",
   "metadata": {},
   "outputs": [
    {
     "data": {
      "text/plain": [
       "(['my', 'dog', 'has', 'flea', 'problems', 'help', 'please'],)"
      ]
     },
     "execution_count": 29,
     "metadata": {},
     "output_type": "execute_result"
    }
   ],
   "source": [
    "['my', 'dog', 'has', 'flea', 'problems', 'help', 'please'],\n",
    "['my', 'dalmation', 'is', 'so', 'cute', 'I', 'love', 'him'],\n",
    "['mr', 'licks', 'ate', 'my', 'steak', 'how', 'to', 'stop', 'him'],"
   ]
  },
  {
   "cell_type": "code",
   "execution_count": null,
   "id": "91c678a5",
   "metadata": {},
   "outputs": [],
   "source": [
    "P(w0 | c1) =>  给定是坏文章，出现w0(dog)的概率。 =>  2/3"
   ]
  },
  {
   "cell_type": "code",
   "execution_count": null,
   "id": "8dafc747",
   "metadata": {},
   "outputs": [],
   "source": [
    "W => "
   ]
  },
  {
   "cell_type": "code",
   "execution_count": 43,
   "id": "ac29324a",
   "metadata": {},
   "outputs": [],
   "source": [
    "def trainNB0(trainMatrix, trainCategory):\n",
    "    ## trainMatrix  \n",
    "    numTrainDocs = len(trainMatrix) ## x 的 个数\n",
    "    numWords = len(trainMatrix[0])  ## 向量长度\n",
    "    \n",
    "    pAbusive = sum(trainCategory)/float(numTrainDocs) # 0.5 直接算\n",
    "    \n",
    "    p0Num = np.ones(numWords); p1Num = np.ones(numWords)      #change to np.ones()\n",
    "    \n",
    "    p0Denom = 2.0; p1Denom = 2.0                              #change to 2.0\n",
    "    \n",
    "    \n",
    "    for i in range(numTrainDocs):\n",
    "        if trainCategory[i] == 1:  ## 坏\n",
    "            p1Num += trainMatrix[i]\n",
    "            print(p1Num)\n",
    "            p1Denom += sum(trainMatrix[i])\n",
    "            \n",
    "        else:                     ## 好\n",
    "            p0Num += trainMatrix[i]\n",
    "            p0Denom += sum(trainMatrix[i])\n",
    "    p1Vect = np.log(p1Num/p1Denom)          #change to np.log()\n",
    "    p0Vect = np.log(p0Num/p0Denom)          #change to np.log()\n",
    "    return p0Vect, p1Vect, pAbusive"
   ]
  },
  {
   "cell_type": "code",
   "execution_count": 44,
   "id": "883a0872",
   "metadata": {},
   "outputs": [
    {
     "name": "stdout",
     "output_type": "stream",
     "text": [
      "[2. 1. 1. 2. 1. 1. 2. 1. 1. 2. 2. 1. 1. 1. 1. 2. 1. 1. 1. 1. 1. 1. 1. 1.\n",
      " 1. 1. 1. 1. 2. 1. 1. 2.]\n",
      "[2. 1. 1. 2. 2. 1. 3. 2. 2. 2. 2. 1. 1. 1. 1. 2. 1. 1. 1. 1. 1. 1. 2. 1.\n",
      " 1. 1. 1. 1. 2. 1. 1. 2.]\n",
      "[2. 1. 1. 3. 2. 1. 4. 3. 2. 2. 2. 1. 1. 1. 1. 2. 2. 1. 1. 1. 1. 1. 2. 1.\n",
      " 1. 1. 1. 2. 2. 2. 1. 2.]\n"
     ]
    },
    {
     "data": {
      "text/plain": [
       "array([-3.25809654, -2.56494936, -2.56494936, -2.56494936, -3.25809654,\n",
       "       -2.56494936, -3.25809654, -3.25809654, -2.56494936, -3.25809654,\n",
       "       -2.56494936, -2.56494936, -2.56494936, -2.56494936, -2.56494936,\n",
       "       -2.15948425, -3.25809654, -2.56494936, -1.87180218, -2.56494936,\n",
       "       -2.56494936, -2.56494936, -3.25809654, -2.56494936, -2.56494936,\n",
       "       -2.56494936, -2.56494936, -3.25809654, -3.25809654, -3.25809654,\n",
       "       -2.56494936, -3.25809654])"
      ]
     },
     "execution_count": 44,
     "metadata": {},
     "output_type": "execute_result"
    }
   ],
   "source": [
    "listOPosts, listClasses = loadDataSet()\n",
    "myVocabList = createVocabList(listOPosts)\n",
    "\n",
    "trainMat = []\n",
    "for postinDoc in listOPosts:\n",
    "    trainMat.append(setOfWords2Vec(myVocabList, postinDoc))\n",
    "    \n",
    "    \n",
    "    \n",
    "p0V, p1V, pAb = trainNB0(np.array(trainMat), np.array(listClasses))\n",
    "p0V"
   ]
  },
  {
   "cell_type": "code",
   "execution_count": 49,
   "id": "bd607ac4",
   "metadata": {},
   "outputs": [],
   "source": [
    "def classifyNB(vec2Classify, p0Vec, p1Vec, pClass1):\n",
    "    print(vec2Classify)\n",
    "    p1 = sum(vec2Classify * p1Vec) + np.log(pClass1)    #element-wise mult\n",
    "    p0 = sum(vec2Classify * p0Vec) + np.log(1.0 - pClass1)\n",
    "    if p1 > p0:\n",
    "        return 1\n",
    "    else:\n",
    "        return 0"
   ]
  },
  {
   "cell_type": "code",
   "execution_count": 50,
   "id": "b03d7f57",
   "metadata": {},
   "outputs": [
    {
     "name": "stdout",
     "output_type": "stream",
     "text": [
      "[0 0 0 0 0 0 0 0 0 0 0 0 0 0 0 0 0 1 1 0 0 0 0 0 0 0 0 0 0 0 1 0]\n",
      "['love', 'my', 'dalmation'] classified as:  0\n",
      "[0 0 0 0 1 0 1 0 0 0 0 0 0 0 0 0 0 0 0 0 0 0 0 0 0 0 0 0 0 0 0 0]\n",
      "['stupid', 'garbage'] classified as:  1\n"
     ]
    }
   ],
   "source": [
    "testEntry = ['love', 'my', 'dalmation']\n",
    "thisDoc = np.array(setOfWords2Vec(myVocabList, testEntry))\n",
    "print(testEntry, 'classified as: ', classifyNB(thisDoc, p0V, p1V, pAb))\n",
    "testEntry = ['stupid', 'garbage']\n",
    "thisDoc = np.array(setOfWords2Vec(myVocabList, testEntry))\n",
    "print(testEntry, 'classified as: ', classifyNB(thisDoc, p0V, p1V, pAb))"
   ]
  },
  {
   "cell_type": "code",
   "execution_count": 37,
   "id": "0e55339b",
   "metadata": {},
   "outputs": [
    {
     "data": {
      "text/plain": [
       "array([1., 1., 1., 1., 1., 1., 1., 1., 1., 1.])"
      ]
     },
     "execution_count": 37,
     "metadata": {},
     "output_type": "execute_result"
    }
   ],
   "source": []
  },
  {
   "cell_type": "code",
   "execution_count": 56,
   "id": "7e9e603d",
   "metadata": {},
   "outputs": [
    {
     "data": {
      "text/plain": [
       "array([0.99694863])"
      ]
     },
     "execution_count": 56,
     "metadata": {},
     "output_type": "execute_result"
    }
   ],
   "source": [
    "np.log([2.71])"
   ]
  },
  {
   "cell_type": "code",
   "execution_count": null,
   "id": "ca586234",
   "metadata": {},
   "outputs": [],
   "source": []
  },
  {
   "cell_type": "code",
   "execution_count": 57,
   "id": "add81ca6",
   "metadata": {},
   "outputs": [
    {
     "ename": "SyntaxError",
     "evalue": "invalid syntax (3160933769.py, line 1)",
     "output_type": "error",
     "traceback": [
      "\u001b[0;36m  Input \u001b[0;32mIn [57]\u001b[0;36m\u001b[0m\n\u001b[0;31m    TF, IDF..  stop words\u001b[0m\n\u001b[0m            ^\u001b[0m\n\u001b[0;31mSyntaxError\u001b[0m\u001b[0;31m:\u001b[0m invalid syntax\n"
     ]
    }
   ],
   "source": [
    "TF, IDF..  stop words"
   ]
  },
  {
   "cell_type": "code",
   "execution_count": null,
   "id": "dcc4008a",
   "metadata": {},
   "outputs": [],
   "source": []
  }
 ],
 "metadata": {
  "kernelspec": {
   "display_name": "Python 3 (ipykernel)",
   "language": "python",
   "name": "python3"
  },
  "language_info": {
   "codemirror_mode": {
    "name": "ipython",
    "version": 3
   },
   "file_extension": ".py",
   "mimetype": "text/x-python",
   "name": "python",
   "nbconvert_exporter": "python",
   "pygments_lexer": "ipython3",
   "version": "3.9.12"
  }
 },
 "nbformat": 4,
 "nbformat_minor": 5
}
